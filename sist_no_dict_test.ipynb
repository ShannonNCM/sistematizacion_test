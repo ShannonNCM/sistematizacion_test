{
 "cells": [
  {
   "cell_type": "markdown",
   "metadata": {},
   "source": [
    "Este notebook es para la sistematizacion sin necesariamente usar un diccionario, solo para extraer ideas/palabras principales"
   ]
  },
  {
   "cell_type": "code",
   "execution_count": 23,
   "metadata": {},
   "outputs": [],
   "source": [
    "import spacy\n",
    "import pandas as pd\n",
    "import numpy as np\n",
    "import string\n",
    "from collections import Counter\n",
    "import matplotlib.pyplot as plt\n",
    "import seaborn as sns\n",
    "import textacy\n",
    "\n",
    "import funciones as f"
   ]
  },
  {
   "cell_type": "code",
   "execution_count": 24,
   "metadata": {},
   "outputs": [],
   "source": [
    "nlp = spacy.load('es_core_news_md')"
   ]
  },
  {
   "cell_type": "code",
   "execution_count": 92,
   "metadata": {},
   "outputs": [],
   "source": [
    "event = 'taller'\n",
    "df = pd.read_excel('info.xlsx', sheet_name=event)\n",
    "\n",
    "preguntas = ['P1', 'P2', 'P3']\n",
    "expanded_responses = {}"
   ]
  },
  {
   "cell_type": "code",
   "execution_count": 93,
   "metadata": {},
   "outputs": [],
   "source": [
    "def extract_nounphrases(x):\n",
    "    doc = nlp(x)\n",
    "    noun_phrases = list(textacy.extract.noun_chunks(doc, min_freq=1))\n",
    "    return [phrase.text for phrase in noun_phrases]"
   ]
  },
  {
   "cell_type": "code",
   "execution_count": 94,
   "metadata": {},
   "outputs": [],
   "source": [
    "test_data = {}\n",
    "for pregunta in preguntas:\n",
    "    if pregunta in df.columns:\n",
    "        test_data[pregunta] = df[['Sector', pregunta]].dropna()\n",
    "        test_data[pregunta]['res'] = test_data[pregunta][pregunta].apply(extract_nounphrases)"
   ]
  },
  {
   "cell_type": "code",
   "execution_count": 95,
   "metadata": {},
   "outputs": [],
   "source": [
    "file_name = f'res_nodict/{event}.xlsx'\n",
    "with pd.ExcelWriter(file_name, engine='openpyxl') as writer:\n",
    "    for pregunta, data in test_data.items():\n",
    "        data.to_excel(writer, sheet_name=pregunta, index=False)"
   ]
  },
  {
   "cell_type": "code",
   "execution_count": null,
   "metadata": {},
   "outputs": [],
   "source": [
    "frequency_data = {}\n",
    "\n",
    "for pregunta, data in test_data.items():\n",
    "    all_phrases = [phrase for phrases in data['res'] for phrase in phrases]\n",
    "    \n",
    "    phrase_counts = Counter(all_phrases)\n",
    "    \n",
    "    frequency_df = pd.DataFrame(phrase_counts.items(), columns=['Phrase', 'Frequency'])\n",
    "    frequency_df = frequency_df.sort_values(by='Frequency', ascending=False).reset_index(drop=True)\n",
    "    \n",
    "    frequency_data[pregunta] = frequency_df"
   ]
  },
  {
   "cell_type": "code",
   "execution_count": 97,
   "metadata": {},
   "outputs": [],
   "source": [
    "file_name = f'res_nodict/resultados_frecuencia_{event}.xlsx'\n",
    "with pd.ExcelWriter(file_name, engine='openpyxl') as writer:\n",
    "    for pregunta, freq_df in frequency_data.items():\n",
    "        freq_df.to_excel(writer, sheet_name=f'{pregunta}_freq', index=False)"
   ]
  }
 ],
 "metadata": {
  "kernelspec": {
   "display_name": "Python 3",
   "language": "python",
   "name": "python3"
  },
  "language_info": {
   "codemirror_mode": {
    "name": "ipython",
    "version": 3
   },
   "file_extension": ".py",
   "mimetype": "text/x-python",
   "name": "python",
   "nbconvert_exporter": "python",
   "pygments_lexer": "ipython3",
   "version": "3.12.0"
  }
 },
 "nbformat": 4,
 "nbformat_minor": 2
}
