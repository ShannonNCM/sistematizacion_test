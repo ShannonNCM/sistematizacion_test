{
 "cells": [
  {
   "cell_type": "code",
   "execution_count": 1,
   "metadata": {},
   "outputs": [],
   "source": [
    "# se importan las librerias\n",
    "import pandas as pd"
   ]
  },
  {
   "cell_type": "markdown",
   "metadata": {},
   "source": [
    "esta parte seria solo como una prueba para ver como funcionanria el codigo"
   ]
  },
  {
   "cell_type": "code",
   "execution_count": 2,
   "metadata": {},
   "outputs": [],
   "source": [
    "# se importa el texto a usar, por el momento lo voy a ingresar directo, pero en el codigo\n",
    "# ya de verdad tendria que leer un excel o algo asi (eso no lo tengo claro aun)\n",
    "answer = [\"Uno de los temas a considerar, sería la creación de un MARCO LEGAL, ya que no puede esperar más el tema de CIBERSEGURIDAD. Ya que da soporte, y estrategias para accionar, incluyendo el tema normativo, es importante como se va aplicar, la inclusión de un reglamento y los procedimientos, ya que el convenio de BUDAPEST es prioridad para poder adherirse, y poder participar de verdad dentro del intercambio.\"]"
   ]
  },
  {
   "cell_type": "code",
   "execution_count": 3,
   "metadata": {},
   "outputs": [],
   "source": [
    "# se define el diccionario de palabras o frases clave\n",
    "dict = {\n",
    "    'datos' : 'Datos',\n",
    "    'legislacion' : 'Leyes',\n",
    "    'leyes' : 'Leyes',\n",
    "    'legal' : 'Leyes',\n",
    "}"
   ]
  },
  {
   "cell_type": "code",
   "execution_count": 4,
   "metadata": {},
   "outputs": [],
   "source": [
    "# funcion para extraer las palabras segun lo que se establecio en el diccionario\n",
    "def extract(text, dict):\n",
    "    found_keywords = [] #vector para guardar las palabras encontradas\n",
    "    for keyword in dict:\n",
    "        if keyword.lower() in text.lower(): #para hacer match independiente de mayusculas\n",
    "            found_keywords.append(dict[keyword])\n",
    "    return found_keywords"
   ]
  },
  {
   "cell_type": "code",
   "execution_count": 5,
   "metadata": {},
   "outputs": [],
   "source": [
    "extracted_info =[extract(answer, dict) for answer in answer]"
   ]
  },
  {
   "cell_type": "code",
   "execution_count": 6,
   "metadata": {},
   "outputs": [
    {
     "data": {
      "text/html": [
       "<div>\n",
       "<style scoped>\n",
       "    .dataframe tbody tr th:only-of-type {\n",
       "        vertical-align: middle;\n",
       "    }\n",
       "\n",
       "    .dataframe tbody tr th {\n",
       "        vertical-align: top;\n",
       "    }\n",
       "\n",
       "    .dataframe thead th {\n",
       "        text-align: right;\n",
       "    }\n",
       "</style>\n",
       "<table border=\"1\" class=\"dataframe\">\n",
       "  <thead>\n",
       "    <tr style=\"text-align: right;\">\n",
       "      <th></th>\n",
       "      <th>respuesta</th>\n",
       "      <th>palabras clave</th>\n",
       "    </tr>\n",
       "  </thead>\n",
       "  <tbody>\n",
       "    <tr>\n",
       "      <th>0</th>\n",
       "      <td>Uno de los temas a considerar, sería la creaci...</td>\n",
       "      <td>[Leyes]</td>\n",
       "    </tr>\n",
       "  </tbody>\n",
       "</table>\n",
       "</div>"
      ],
      "text/plain": [
       "                                           respuesta palabras clave\n",
       "0  Uno de los temas a considerar, sería la creaci...        [Leyes]"
      ]
     },
     "execution_count": 6,
     "metadata": {},
     "output_type": "execute_result"
    }
   ],
   "source": [
    "pd.DataFrame({\n",
    "    'respuesta' : answer,\n",
    "    'palabras clave' : extracted_info\n",
    "})"
   ]
  },
  {
   "cell_type": "markdown",
   "metadata": {},
   "source": [
    "Esta parte es si por ejemplo se importa de un excel y talvez eso hace mas facil "
   ]
  },
  {
   "cell_type": "code",
   "execution_count": 7,
   "metadata": {},
   "outputs": [
    {
     "data": {
      "text/html": [
       "<div>\n",
       "<style scoped>\n",
       "    .dataframe tbody tr th:only-of-type {\n",
       "        vertical-align: middle;\n",
       "    }\n",
       "\n",
       "    .dataframe tbody tr th {\n",
       "        vertical-align: top;\n",
       "    }\n",
       "\n",
       "    .dataframe thead th {\n",
       "        text-align: right;\n",
       "    }\n",
       "</style>\n",
       "<table border=\"1\" class=\"dataframe\">\n",
       "  <thead>\n",
       "    <tr style=\"text-align: right;\">\n",
       "      <th></th>\n",
       "      <th>Respuesta</th>\n",
       "    </tr>\n",
       "  </thead>\n",
       "  <tbody>\n",
       "    <tr>\n",
       "      <th>0</th>\n",
       "      <td>Puedan existir más leyes a nivel nacional, gob...</td>\n",
       "    </tr>\n",
       "    <tr>\n",
       "      <th>1</th>\n",
       "      <td>Aparte de leyes, compartir información el tema...</td>\n",
       "    </tr>\n",
       "    <tr>\n",
       "      <th>2</th>\n",
       "      <td>Tecnología, a nivel de persona paradigma de no...</td>\n",
       "    </tr>\n",
       "  </tbody>\n",
       "</table>\n",
       "</div>"
      ],
      "text/plain": [
       "                                           Respuesta\n",
       "0  Puedan existir más leyes a nivel nacional, gob...\n",
       "1  Aparte de leyes, compartir información el tema...\n",
       "2  Tecnología, a nivel de persona paradigma de no..."
      ]
     },
     "execution_count": 7,
     "metadata": {},
     "output_type": "execute_result"
    }
   ],
   "source": [
    "# se importa el archivo de excel\n",
    "df = pd.read_excel('test_excel.xlsx', sheet_name='Sheet1')\n",
    "df"
   ]
  },
  {
   "cell_type": "code",
   "execution_count": 8,
   "metadata": {},
   "outputs": [
    {
     "data": {
      "text/plain": [
       "0    Puedan existir más leyes a nivel nacional, gob...\n",
       "1    Aparte de leyes, compartir información el tema...\n",
       "2    Tecnología, a nivel de persona paradigma de no...\n",
       "Name: Respuesta, dtype: object"
      ]
     },
     "execution_count": 8,
     "metadata": {},
     "output_type": "execute_result"
    }
   ],
   "source": [
    "# se expecifica la columna con los datos\n",
    "answer = df['Respuesta']\n",
    "answer"
   ]
  },
  {
   "cell_type": "code",
   "execution_count": 9,
   "metadata": {},
   "outputs": [],
   "source": [
    "dict = {\n",
    "    'datos estadisticos' : 'Datos',\n",
    "    'ciberseguridad' : 'Ciberserguridad',\n",
    "    'gobernanza' : 'Governanza',\n",
    "    'legal' : 'Leyes',\n",
    "}"
   ]
  },
  {
   "cell_type": "code",
   "execution_count": 10,
   "metadata": {},
   "outputs": [
    {
     "data": {
      "text/plain": [
       "0         [Governanza]\n",
       "1    [Ciberserguridad]\n",
       "2                   []\n",
       "Name: Respuesta, dtype: object"
      ]
     },
     "execution_count": 10,
     "metadata": {},
     "output_type": "execute_result"
    }
   ],
   "source": [
    "# voy a revisar si funciona la misma funcion que ya cree antes\n",
    "answer.apply(lambda text: extract(text, dict))"
   ]
  },
  {
   "cell_type": "code",
   "execution_count": 11,
   "metadata": {},
   "outputs": [
    {
     "data": {
      "text/html": [
       "<div>\n",
       "<style scoped>\n",
       "    .dataframe tbody tr th:only-of-type {\n",
       "        vertical-align: middle;\n",
       "    }\n",
       "\n",
       "    .dataframe tbody tr th {\n",
       "        vertical-align: top;\n",
       "    }\n",
       "\n",
       "    .dataframe thead th {\n",
       "        text-align: right;\n",
       "    }\n",
       "</style>\n",
       "<table border=\"1\" class=\"dataframe\">\n",
       "  <thead>\n",
       "    <tr style=\"text-align: right;\">\n",
       "      <th></th>\n",
       "      <th>Respuesta</th>\n",
       "      <th>info</th>\n",
       "    </tr>\n",
       "  </thead>\n",
       "  <tbody>\n",
       "    <tr>\n",
       "      <th>0</th>\n",
       "      <td>Puedan existir más leyes a nivel nacional, gob...</td>\n",
       "      <td>[Governanza]</td>\n",
       "    </tr>\n",
       "    <tr>\n",
       "      <th>1</th>\n",
       "      <td>Aparte de leyes, compartir información el tema...</td>\n",
       "      <td>[Ciberserguridad]</td>\n",
       "    </tr>\n",
       "    <tr>\n",
       "      <th>2</th>\n",
       "      <td>Tecnología, a nivel de persona paradigma de no...</td>\n",
       "      <td>[]</td>\n",
       "    </tr>\n",
       "  </tbody>\n",
       "</table>\n",
       "</div>"
      ],
      "text/plain": [
       "                                           Respuesta               info\n",
       "0  Puedan existir más leyes a nivel nacional, gob...       [Governanza]\n",
       "1  Aparte de leyes, compartir información el tema...  [Ciberserguridad]\n",
       "2  Tecnología, a nivel de persona paradigma de no...                 []"
      ]
     },
     "execution_count": 11,
     "metadata": {},
     "output_type": "execute_result"
    }
   ],
   "source": [
    "df['info'] = answer.apply(lambda text: extract(text, dict))\n",
    "df"
   ]
  }
 ],
 "metadata": {
  "kernelspec": {
   "display_name": "Python 3",
   "language": "python",
   "name": "python3"
  },
  "language_info": {
   "codemirror_mode": {
    "name": "ipython",
    "version": 3
   },
   "file_extension": ".py",
   "mimetype": "text/x-python",
   "name": "python",
   "nbconvert_exporter": "python",
   "pygments_lexer": "ipython3",
   "version": "3.11.9"
  }
 },
 "nbformat": 4,
 "nbformat_minor": 2
}
